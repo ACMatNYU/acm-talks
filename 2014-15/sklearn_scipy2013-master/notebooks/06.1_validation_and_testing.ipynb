{
 "metadata": {
  "name": "06.1_validation_and_testing"
 },
 "nbformat": 3,
 "nbformat_minor": 0,
 "worksheets": [
  {
   "cells": [
    {
     "cell_type": "code",
     "collapsed": false,
     "input": [
      "%pylab inline\n",
      "import numpy as np\n",
      "import pylab as pl"
     ],
     "language": "python",
     "metadata": {},
     "outputs": []
    },
    {
     "cell_type": "heading",
     "level": 1,
     "metadata": {},
     "source": [
      "Parameter selection, Validation & Testing"
     ]
    },
    {
     "cell_type": "heading",
     "level": 2,
     "metadata": {},
     "source": [
      "Hyperparameters, Over-fitting, and Under-fitting"
     ]
    },
    {
     "cell_type": "markdown",
     "metadata": {},
     "source": [
      "*The content in this section is adapted from Andrew Ng's excellent\n",
      "Coursera course, available here:* https://www.coursera.org/course/ml"
     ]
    },
    {
     "cell_type": "markdown",
     "metadata": {},
     "source": [
      "The issues associated with validation and \n",
      "cross-validation are some of the most important\n",
      "aspects of the practice of machine learning.  Selecting the optimal model\n",
      "for your data is vital, and is a piece of the problem that is not often\n",
      "appreciated by machine learning practitioners.\n",
      "\n",
      "Of core importance is the following question:\n",
      "\n",
      "**If our estimator is underperforming, how should we move forward?**\n",
      "\n",
      "- Use simpler or more complicated model?\n",
      "- Add more features to each observed data point?\n",
      "- Add more training samples?\n",
      "\n",
      "The answer is often counter-intuitive.  In particular, **Sometimes using a\n",
      "more complicated model will give _worse_ results.**  Also, **Sometimes adding\n",
      "training data will not improve your results.**  The ability to determine\n",
      "what steps will improve your model is what separates the successful machine\n",
      "learning practitioners from the unsuccessful."
     ]
    },
    {
     "cell_type": "heading",
     "level": 3,
     "metadata": {},
     "source": [
      "Bias-variance trade-off: illustration on a simple regression problem"
     ]
    },
    {
     "cell_type": "markdown",
     "metadata": {},
     "source": [
      "For this section, we'll work with a simple 1D regression problem.  This will help us to\n",
      "easily visualize the data and the model, and the results generalize easily to  higher-dimensional\n",
      "datasets.  We'll explore a simple **linear regression** problem.\n",
      "This can be accomplished within scikit-learn with the `sklearn.linear_model` module.\n",
      "\n",
      "We consider the situation where we have only 2 data points:"
     ]
    },
    {
     "cell_type": "code",
     "collapsed": false,
     "input": [
      "X = np.c_[ .5, 1].T\n",
      "y = [.5, 1]\n",
      "X_test = np.c_[ 0, 2].T"
     ],
     "language": "python",
     "metadata": {},
     "outputs": []
    },
    {
     "cell_type": "code",
     "collapsed": false,
     "input": [
      "X"
     ],
     "language": "python",
     "metadata": {},
     "outputs": []
    },
    {
     "cell_type": "code",
     "collapsed": false,
     "input": [
      "y"
     ],
     "language": "python",
     "metadata": {},
     "outputs": []
    },
    {
     "cell_type": "code",
     "collapsed": false,
     "input": [
      "X_test"
     ],
     "language": "python",
     "metadata": {},
     "outputs": []
    },
    {
     "cell_type": "code",
     "collapsed": false,
     "input": [
      "from sklearn import linear_model\n",
      "regr = linear_model.LinearRegression()\n",
      "\n",
      "regr.fit(X, y)\n",
      "pl.plot(X, y, 'o')\n",
      "pl.plot(X_test, regr.predict(X_test)) "
     ],
     "language": "python",
     "metadata": {},
     "outputs": []
    },
    {
     "cell_type": "markdown",
     "metadata": {},
     "source": [
      "In real life situation, we have noise (e.g. measurement noise) in our data:"
     ]
    },
    {
     "cell_type": "code",
     "collapsed": false,
     "input": [
      "np.random.seed(0)\n",
      "for _ in range(6):\n",
      "    noise = np.random.normal(loc=0, scale=.1, size=X.shape)\n",
      "    noisy_X = X + noise\n",
      "    pl.plot(noisy_X, y, 'o')  \n",
      "    regr.fit(noisy_X, y)\n",
      "    pl.plot(X_test, regr.predict(X_test))"
     ],
     "language": "python",
     "metadata": {},
     "outputs": []
    },
    {
     "cell_type": "markdown",
     "metadata": {},
     "source": [
      "As we can see, our linear model captures and amplifies the noise in the data. It displays a lot of variance.\n",
      "\n",
      "We can use another linear estimator that uses regularization, the `Ridge` estimator. This estimator regularizes the coefficients by shrinking them to zero, under the assumption that very high correlations are often spurious. The alpha parameter controls the amount of shrinkage used."
     ]
    },
    {
     "cell_type": "code",
     "collapsed": false,
     "input": [
      "regr = linear_model.Ridge(alpha=.1)\n",
      "np.random.seed(0)\n",
      "for _ in range(6):\n",
      "    noise = np.random.normal(loc=0, scale=.1, size=X.shape)\n",
      "    noisy_X = X + noise\n",
      "    pl.plot(noisy_X, y, 'o')  \n",
      "    regr.fit(noisy_X, y)\n",
      "    pl.plot(X_test, regr.predict(X_test))"
     ],
     "language": "python",
     "metadata": {},
     "outputs": []
    },
    {
     "cell_type": "markdown",
     "metadata": {},
     "source": [
      "As we can see, the estimator displays much less variance. However it systematically under-estimates the coefficient. It displays a biased behavior.\n",
      "\n",
      "This is a typical example of bias/variance tradeof: non-regularized estimator are not biased, but they can display a lot of bias. Highly-regularized models have little variance, but high bias. This bias is not necessarily a bad thing: it practice what matters is choosing the tradeoff between bias and variance that leads to the best prediction performance. For a specific dataset there is a sweet spot corresponding to the highest complexity that the data can support, depending on the amount of noise and of observations available."
     ]
    },
    {
     "cell_type": "heading",
     "level": 2,
     "metadata": {},
     "source": [
      "Learning Curves and the Bias/Variance Tradeoff"
     ]
    },
    {
     "cell_type": "markdown",
     "metadata": {},
     "source": [
      "One way to address this issue is to use what are often called **Learning Curves**.\n",
      "Given a particular dataset and a model we'd like to fit (e.g. a polynomial), we'd\n",
      "like to tune our value of the *hyperparameter* `d` to give us the best fit.\n",
      "\n",
      "We'll imagine we have a simple regression problem: given the size of a house, we'd\n",
      "like to predict how much it's worth.  We'll fit it with our polynomial regression\n",
      "model.\n",
      "\n",
      "Run the following code to see an example plot:"
     ]
    },
    {
     "cell_type": "code",
     "collapsed": false,
     "input": [
      "from figures import plot_bias_variance\n",
      "plot_bias_variance(8, random_seed=42)"
     ],
     "language": "python",
     "metadata": {},
     "outputs": []
    },
    {
     "cell_type": "markdown",
     "metadata": {},
     "source": [
      "In the above figure, we see fits for three different values of `d`.\n",
      "For `d = 1`, the data is under-fit. This means that the model is too\n",
      "simplistic: no straight line will ever be a good fit to this data. In\n",
      "this case, we say that the model suffers from high bias. The model\n",
      "itself is biased, and this will be reflected in the fact that the data\n",
      "is poorly fit. At the other extreme, for `d = 6` the data is over-fit.\n",
      "This means that the model has too many free parameters (6 in this case)\n",
      "which can be adjusted to perfectly fit the training data. If we add a\n",
      "new point to this plot, though, chances are it will be very far from\n",
      "the curve representing the degree-6 fit. In this case, we say that the\n",
      "model suffers from high variance. The reason for the term \"high variance\" is that if\n",
      "any of the input points are varied slightly, it could result in a very different model.\n",
      "\n",
      "In the middle, for `d = 2`, we have found a good mid-point. It fits\n",
      "the data fairly well, and does not suffer from the bias and variance\n",
      "problems seen in the figures on either side. What we would like is a\n",
      "way to quantitatively identify bias and variance, and optimize the\n",
      "metaparameters (in this case, the polynomial degree d) in order to\n",
      "determine the best algorithm. This can be done through a process\n",
      "called *validation*."
     ]
    },
    {
     "cell_type": "heading",
     "level": 3,
     "metadata": {},
     "source": [
      "Validation Curves"
     ]
    },
    {
     "cell_type": "markdown",
     "metadata": {},
     "source": [
      "We'll create a dataset like in the example above, and use this to test our\n",
      "validation scheme.  First we'll define some utility routines:"
     ]
    },
    {
     "cell_type": "code",
     "collapsed": false,
     "input": [
      "def test_func(x, err=0.5):\n",
      "    return np.random.normal(10 - 1. / (x + 0.1), err)\n",
      "\n",
      "def compute_error(x, y, p):\n",
      "    yfit = np.polyval(p, x)\n",
      "    return np.sqrt(np.mean((y - yfit) ** 2))"
     ],
     "language": "python",
     "metadata": {},
     "outputs": []
    },
    {
     "cell_type": "code",
     "collapsed": false,
     "input": [
      "from sklearn.cross_validation import train_test_split\n",
      "\n",
      "N = 200\n",
      "test_size = 0.4\n",
      "error = 1.0\n",
      "\n",
      "# randomly sample the data\n",
      "np.random.seed(1)\n",
      "x = np.random.random(N)\n",
      "y = test_func(x, error)\n",
      "\n",
      "# split into training, validation, and testing sets.\n",
      "xtrain, xtest, ytrain, ytest = train_test_split(x, y, test_size=test_size)\n",
      "\n",
      "# show the training and validation sets\n",
      "plt.scatter(xtrain, ytrain, color='red')\n",
      "plt.scatter(xtest, ytest, color='blue')"
     ],
     "language": "python",
     "metadata": {},
     "outputs": []
    },
    {
     "cell_type": "markdown",
     "metadata": {},
     "source": [
      "In order to quantify the effects of bias and variance and construct\n",
      "the best possible estimator, we will split our training data into\n",
      "a *training set* and a *validation set*.  As a general rule, the\n",
      "training set should be about 60% of the samples.\n",
      "\n",
      "The overarching idea is as follows. The model parameters (in our case,\n",
      "the coefficients of the polynomials) are learned using the training\n",
      "set as above. The error is evaluated on the validation set,\n",
      "and the meta-parameters (in our case, the degree of the polynomial)\n",
      "are adjusted so that this validation error is minimized.\n",
      "Finally, the labels are predicted for the test set. These labels\n",
      "are used to evaluate how well the algorithm can be expected to\n",
      "perform on unlabeled data.\n",
      "\n",
      "The validation error of our polynomial classifier can be visualized\n",
      "by plotting the error as a function of the polynomial degree d. We can do\n",
      "this as follows:"
     ]
    },
    {
     "cell_type": "code",
     "collapsed": false,
     "input": [
      "# suppress warnings from Polyfit\n",
      "import warnings\n",
      "warnings.filterwarnings('ignore', message='Polyfit*')\n",
      "\n",
      "degrees = np.arange(21)\n",
      "train_err = np.zeros(len(degrees))\n",
      "validation_err = np.zeros(len(degrees))\n",
      "\n",
      "for i, d in enumerate(degrees):\n",
      "    p = np.polyfit(xtrain, ytrain, d)\n",
      "\n",
      "    train_err[i] = compute_error(xtrain, ytrain, p)\n",
      "    validation_err[i] = compute_error(xtest, ytest, p)\n",
      "\n",
      "fig, ax = plt.subplots()\n",
      "\n",
      "ax.plot(degrees, validation_err, lw=2, label = 'cross-validation error')\n",
      "ax.plot(degrees, train_err, lw=2, label = 'training error')\n",
      "ax.plot([0, 20], [error, error], '--k', label='intrinsic error')\n",
      "\n",
      "ax.legend(loc=0)\n",
      "ax.set_xlabel('degree of fit')\n",
      "ax.set_ylabel('rms error')"
     ],
     "language": "python",
     "metadata": {},
     "outputs": []
    },
    {
     "cell_type": "markdown",
     "metadata": {},
     "source": [
      "This figure compactly shows the reason that validation is\n",
      "important. On the left side of the plot, we have very low-degree\n",
      "polynomial, which under-fits the data. This leads to a very high\n",
      "error for both the training set and the validation set. On\n",
      "the far right side of the plot, we have a very high degree\n",
      "polynomial, which over-fits the data. This can be seen in the fact\n",
      "that the training error is very low, while the validation\n",
      "error is very high. Plotted for comparison is the intrinsic error\n",
      "(this is the scatter artificially added to the data: click on the\n",
      "above image to see the source code). For this toy dataset,\n",
      "error = 1.0 is the best we can hope to attain. Choosing `d=6` in\n",
      "this case gets us very close to the optimal error.\n",
      "\n",
      "The astute reader will realize that something is amiss here: in\n",
      "the above plot, `d = 6` gives the best results. But in the previous\n",
      "plot, we found that `d = 6` vastly over-fits the data. What\u2019s going\n",
      "on here? The difference is the **number of training points** used.\n",
      "In the previous example, there were only eight training points.\n",
      "In this example, we have 100. As a general rule of thumb, the more\n",
      "training points used, the more complicated model can be used.\n",
      "But how can you determine for a given model whether more training\n",
      "points will be helpful? A useful diagnostic for this are learning curves."
     ]
    },
    {
     "cell_type": "heading",
     "level": 3,
     "metadata": {},
     "source": [
      "Learning Curves"
     ]
    },
    {
     "cell_type": "markdown",
     "metadata": {},
     "source": [
      "A learning curve is a plot of the training and validation\n",
      "error as a function of the number of training points. Note that\n",
      "when we train on a small subset of the training data, the training\n",
      "error is computed using this subset, not the full training set.\n",
      "These plots can give a quantitative view into how beneficial it\n",
      "will be to add training samples."
     ]
    },
    {
     "cell_type": "code",
     "collapsed": false,
     "input": [
      "# suppress warnings from Polyfit\n",
      "import warnings\n",
      "warnings.filterwarnings('ignore', message='Polyfit*')\n",
      "\n",
      "def plot_learning_curve(d, N=200):\n",
      "    n_sizes = 50\n",
      "    n_runs = 10\n",
      "    sizes = np.linspace(2, N, n_sizes).astype(int)\n",
      "    train_err = np.zeros((n_runs, n_sizes))\n",
      "    validation_err = np.zeros((n_runs, n_sizes))\n",
      "    for i in range(n_runs):\n",
      "        for j, size in enumerate(sizes):\n",
      "            xtrain, xtest, ytrain, ytest = train_test_split(\n",
      "                x, y, test_size=test_size, random_state=i)\n",
      "            # Train on only the first `size` points\n",
      "            p = np.polyfit(xtrain[:size], ytrain[:size], d)\n",
      "            \n",
      "            # Validation error is on the *entire* validation set\n",
      "            validation_err[i, j] = compute_error(xtest, ytest, p)\n",
      "            \n",
      "            # Training error is on only the points used for training\n",
      "            train_err[i, j] = compute_error(xtrain[:size], ytrain[:size], p)\n",
      "\n",
      "    fig, ax = plt.subplots()\n",
      "    ax.plot(sizes, validation_err.mean(axis=0), lw=2, label='mean validation error')\n",
      "    ax.plot(sizes, train_err.mean(axis=0), lw=2, label='mean training error')\n",
      "    ax.plot([0, N], [error, error], '--k', label='intrinsic error')\n",
      "\n",
      "    ax.set_xlabel('traning set size')\n",
      "    ax.set_ylabel('rms error')\n",
      "    \n",
      "    ax.legend(loc=0)\n",
      "    \n",
      "    ax.set_xlim(0, N-1)\n",
      "\n",
      "    ax.set_title('d = %i' % d)"
     ],
     "language": "python",
     "metadata": {},
     "outputs": []
    },
    {
     "cell_type": "markdown",
     "metadata": {},
     "source": [
      "Now that we've defined this function, we can plot the learning curve.\n",
      "But first, take a moment to think about what we're going to see:\n",
      "\n",
      "**Questions:**\n",
      "\n",
      "- **As the number of training samples are increased, what do you expect to see for the training error?  For the validation error?**\n",
      "- **Would you expect the training error to be higher or lower than the validation error?  Would you ever expect this to change?**\n",
      "\n",
      "We can run the following code to plot the learning curve for a ``d=1`` model:"
     ]
    },
    {
     "cell_type": "code",
     "collapsed": false,
     "input": [
      "plot_learning_curve(d=1)"
     ],
     "language": "python",
     "metadata": {},
     "outputs": []
    },
    {
     "cell_type": "markdown",
     "metadata": {},
     "source": [
      "Notice that the validation error *generally decreases* with a growing training set,\n",
      "while the training error *generally increases* with a growing training set.  From\n",
      "this we can infer that as the training size increases, they will converge to a single\n",
      "value.\n",
      "\n",
      "From the above discussion, we know that `d = 1` is a high-bias estimator which\n",
      "under-fits the data. This is indicated by the fact that both the\n",
      "training and validation errors are very high. When confronted with this type of learning curve,\n",
      "we can expect that adding more training data will not help matters: both\n",
      "lines will converge to a relatively high error.\n",
      "\n",
      "**When the learning curves have converged to a high error, we have a high bias model.**\n",
      "\n",
      "A high-bias model can be improved by:\n",
      "\n",
      "- Using a more sophisticated model (i.e. in this case, increase ``d``)\n",
      "- Gather more features for each sample.\n",
      "- Decrease regularlization in a regularized model.\n",
      "\n",
      "A high-bias model cannot be improved, however, by increasing the number of training\n",
      "samples (do yousee why?)\n",
      "\n",
      "Now let's look at a high-variance (i.e. over-fit) model:"
     ]
    },
    {
     "cell_type": "code",
     "collapsed": false,
     "input": [
      "plot_learning_curve(d=20, N=100)\n",
      "plt.ylim(0, 15)"
     ],
     "language": "python",
     "metadata": {},
     "outputs": []
    },
    {
     "cell_type": "markdown",
     "metadata": {},
     "source": [
      "Here we show the learning curve for `d = 20`. From the above\n",
      "discussion, we know that `d = 20` is a **high-variance** estimator\n",
      "which **over-fits** the data. This is indicated by the fact that the\n",
      "training error is much less than the validation error. As\n",
      "we add more samples to this training set, the training error will\n",
      "continue to climb, while the cross-validation error will continue\n",
      "to decrease, until they meet in the middle. In this case, our\n",
      "intrinsic error was set to 1.0, and we can infer that adding more\n",
      "data will allow the estimator to very closely match the best\n",
      "possible cross-validation error.\n",
      "\n",
      "**When the learning curves have not yet converged with our full training set, it indicates a high-variance, over-fit model.**\n",
      "\n",
      "A high-variance model can be improved by:\n",
      "\n",
      "- Gathering more training samples.\n",
      "- Using a less-sophisticated model (i.e. in this case, make ``d`` smaller)\n",
      "- Increasing regularization.\n",
      "\n",
      "In particular, gathering more features for each sample will not help the results."
     ]
    },
    {
     "cell_type": "heading",
     "level": 2,
     "metadata": {},
     "source": [
      "Summary"
     ]
    },
    {
     "cell_type": "markdown",
     "metadata": {},
     "source": [
      "We\u2019ve seen above that an under-performing algorithm can be due\n",
      "to two possible situations: high bias (under-fitting) and high\n",
      "variance (over-fitting). In order to evaluate our algorithm, we\n",
      "set aside a portion of our training data for cross-validation.\n",
      "Using the technique of learning curves, we can train on progressively\n",
      "larger subsets of the data, evaluating the training error and\n",
      "cross-validation error to determine whether our algorithm has\n",
      "high variance or high bias. But what do we do with this information?"
     ]
    },
    {
     "cell_type": "heading",
     "level": 3,
     "metadata": {},
     "source": [
      "High Bias"
     ]
    },
    {
     "cell_type": "markdown",
     "metadata": {},
     "source": [
      "If our algorithm shows high **bias**, the following actions might help:\n",
      "\n",
      "- **Add more features**. In our example of predicting home prices,\n",
      "  it may be helpful to make use of information such as the neighborhood\n",
      "  the house is in, the year the house was built, the size of the lot, etc.\n",
      "  Adding these features to the training and test sets can improve\n",
      "  a high-bias estimator\n",
      "- **Use a more sophisticated model**. Adding complexity to the model can\n",
      "  help improve on bias. For a polynomial fit, this can be accomplished\n",
      "  by increasing the degree d. Each learning technique has its own\n",
      "  methods of adding complexity.\n",
      "- **Use fewer samples**. Though this will not improve the classification,\n",
      "  a high-bias algorithm can attain nearly the same error with a smaller\n",
      "  training sample. For algorithms which are computationally expensive,\n",
      "  reducing the training sample size can lead to very large improvements\n",
      "  in speed.\n",
      "- **Decrease regularization**. Regularization is a technique used to impose\n",
      "  simplicity in some machine learning models, by adding a penalty term that\n",
      "  depends on the characteristics of the parameters. If a model has high bias,\n",
      "  decreasing the effect of regularization can lead to better results."
     ]
    },
    {
     "cell_type": "heading",
     "level": 3,
     "metadata": {},
     "source": [
      "High Variance"
     ]
    },
    {
     "cell_type": "markdown",
     "metadata": {},
     "source": [
      "If our algorithm shows **high variance**, the following actions might help:\n",
      "\n",
      "- **Use fewer features**. Using a feature selection technique may be\n",
      "  useful, and decrease the over-fitting of the estimator.\n",
      "- **Use a simpler model**.  Model complexity and over-fitting go hand-in-hand.\n",
      "- **Use more training samples**. Adding training samples can reduce\n",
      "  the effect of over-fitting, and lead to improvements in a high\n",
      "  variance estimator.\n",
      "- **Increase Regularization**. Regularization is designed to prevent\n",
      "  over-fitting. In a high-variance model, increasing regularization\n",
      "  can lead to better results.\n",
      "\n",
      "These choices become very important in real-world situations. For example,\n",
      "due to limited telescope time, astronomers must seek a balance between\n",
      "observing a large number of objects, and observing a large number of\n",
      "features for each object. Determining which is more important for a\n",
      "particular learning task can inform the observing strategy that the\n",
      "astronomer employs. In a later exercise, we will explore the use of\n",
      "learning curves for the photometric redshift problem."
     ]
    },
    {
     "cell_type": "heading",
     "level": 3,
     "metadata": {},
     "source": [
      "More Sophisticated Methods"
     ]
    },
    {
     "cell_type": "markdown",
     "metadata": {},
     "source": [
      "There are a lot more options for performing validation and model testing.\n",
      "In particular, there are several schemes for cross-validation, in which\n",
      "the model is fit multiple times with different training and test sets.\n",
      "The details are different, but the principles are the same as what we've\n",
      "seen here.\n",
      "\n",
      "For more information see the ``sklearn.cross_validation`` module documentation,\n",
      "and the information on the scikit-learn website."
     ]
    },
    {
     "cell_type": "heading",
     "level": 2,
     "metadata": {},
     "source": [
      "One Last Caution"
     ]
    },
    {
     "cell_type": "markdown",
     "metadata": {},
     "source": [
      "Using validation schemes to determine hyper-parameters means that we are\n",
      "fitting the hyper-parameters to the particular validation set.  In the same\n",
      "way that parameters can be over-fit to the training set, hyperparameters can\n",
      "be over-fit to the validation set.  Because of this, the validation error\n",
      "tends to under-predict the classification error of new data.\n",
      "\n",
      "For this reason, it is recommended to split the data into three sets:\n",
      "\n",
      "- The **training set**, used to train the model (usually ~60% of the data)\n",
      "- The **validation set**, used to validate the model (usually ~20% of the data)\n",
      "- The **test set**, used to evaluate the expected error of the validated model (usually ~20% of the data)\n",
      "\n",
      "This may seem excessive, and many machine learning practitioners ignore the need\n",
      "for a test set.  But if your goal is to predict the error of a model on unknown\n",
      "data, using a test set is vital."
     ]
    }
   ],
   "metadata": {}
  }
 ]
}