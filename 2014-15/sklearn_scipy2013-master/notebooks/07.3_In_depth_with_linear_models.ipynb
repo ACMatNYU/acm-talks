{
 "metadata": {
  "name": "07C_In_depth_with_linear_models"
 },
 "nbformat": 3,
 "nbformat_minor": 0,
 "worksheets": [
  {
   "cells": [
    {
     "cell_type": "code",
     "collapsed": false,
     "input": [
      "%pylab inline\n",
      "import numpy as np\n",
      "import pylab as pl"
     ],
     "language": "python",
     "metadata": {},
     "outputs": []
    },
    {
     "cell_type": "heading",
     "level": 1,
     "metadata": {},
     "source": [
      "In depth with linear models"
     ]
    },
    {
     "cell_type": "markdown",
     "metadata": {},
     "source": [
      "Linear models are useful when little data is available. I addition, they form a good case study of regularization."
     ]
    },
    {
     "cell_type": "heading",
     "level": 2,
     "metadata": {},
     "source": [
      "Linear models for regression"
     ]
    },
    {
     "cell_type": "markdown",
     "metadata": {},
     "source": [
      "The most standard linear model is the 'ordinary least regression', often simply called 'linear regression'. When the number of features is large, it becomes ill-posed and overfits.\n",
      "\n",
      "Let us generate a simple simulation, to see the behavior of these models."
     ]
    },
    {
     "cell_type": "code",
     "collapsed": false,
     "input": [
      "rng = np.random.RandomState(0)\n",
      "X = rng.normal(size=(1000, 50))\n",
      "beta = rng.normal(size=50)\n",
      "y = np.dot(X, beta) + 4*rng.normal(size=1000)\n",
      "\n",
      "from sklearn import linear_model, cross_validation\n",
      "\n",
      "def plot_learning_curve(estimator):\n",
      "    scores = list()\n",
      "    train_sizes = np.linspace(50, 250, 20).astype(np.int)\n",
      "    for train_size in train_sizes:\n",
      "        test_error = cross_validation.cross_val_score(estimator, X, y,\n",
      "                        cv=cross_validation.ShuffleSplit(train_size=train_size, test_size=500, n=1000,\n",
      "                                                         random_state=0)\n",
      "                        )\n",
      "        scores.append(test_error)\n",
      "    pl.plot(train_sizes, np.mean(scores, axis=1), label=estimator.__class__.__name__)\n",
      "    pl.ylim(0, 1)\n",
      "    pl.ylabel('Explained variance on test set')\n",
      "    pl.xlabel('Training set size')\n",
      "    pl.legend(loc='best')\n",
      "\n",
      "\n",
      "plot_learning_curve(linear_model.LinearRegression())"
     ],
     "language": "python",
     "metadata": {},
     "outputs": []
    },
    {
     "cell_type": "markdown",
     "metadata": {},
     "source": [
      "As we can see, the ordinary linear regression is not defined if there are less training samples than features. In the presence of noise, it does poorly as long as the number of sample is not several times the number of features.\n",
      "\n",
      "The LinearRegression is then overfitting: fitting noise. We need to regularize.\n",
      "\n",
      "**The Ridge estimator** is a simple regularization of the ordinary LinearRegression. In particular, it has the benefit of being not computationaly more expensive than the ordinary least square estimate."
     ]
    },
    {
     "cell_type": "code",
     "collapsed": false,
     "input": [
      "plot_learning_curve(linear_model.LinearRegression())\n",
      "plot_learning_curve(linear_model.Ridge())"
     ],
     "language": "python",
     "metadata": {},
     "outputs": []
    },
    {
     "cell_type": "markdown",
     "metadata": {},
     "source": [
      "We can see that in the low-sample limit, the Ridge estimator performs much better than the unregularized model.\n",
      "\n",
      "The regularization of the Ridge is a shrinkage: the coefficients learned are bias towards zero. Too much bias is not beneficial, but with very little samples, we will need more bias.\n",
      "\n",
      "The amount of regularization is set via the `alpha` parameter of the Ridge. Tuning it is critical for performance. We can set it automatically by cross-validation using the RidgeCV estimator:"
     ]
    },
    {
     "cell_type": "code",
     "collapsed": false,
     "input": [
      "plot_learning_curve(linear_model.LinearRegression())\n",
      "plot_learning_curve(linear_model.Ridge())\n",
      "plot_learning_curve(linear_model.RidgeCV())"
     ],
     "language": "python",
     "metadata": {},
     "outputs": []
    },
    {
     "cell_type": "markdown",
     "metadata": {},
     "source": [
      "**The Lasso estimator** is useful to impose sparsity on the coefficient. In other words, it is to be prefered if we believe that many of the features are not relevant.\n",
      "\n",
      "Let us create such a situation with a new simulation where only 10 out of the 50 features are relevant:"
     ]
    },
    {
     "cell_type": "code",
     "collapsed": false,
     "input": [
      "beta[10:] = 0\n",
      "y = np.dot(X, beta) + 4*rng.normal(size=1000)\n",
      "plot_learning_curve(linear_model.RidgeCV())\n",
      "plot_learning_curve(linear_model.Lasso())"
     ],
     "language": "python",
     "metadata": {},
     "outputs": []
    },
    {
     "cell_type": "markdown",
     "metadata": {},
     "source": [
      "We can see that the Lasso estimator performs, in our case, better than the Ridge when their is a small number of training observations. However, when they are a lot of observations, the Lasso under-performs. Indeed, the variance-reducing effect of the regularization is less critical in these situation, and the bias becomes too detrimental.\n",
      "\n",
      "As with any estimator, we should tune the regularization parameter to get best prediction. For this purpose, we can use the LassoCV object. Note that it is a significantly more computationally costly operation than the RidgeCV. To speed it up, we reduce the number of values explored for the alpha parameter."
     ]
    },
    {
     "cell_type": "code",
     "collapsed": false,
     "input": [
      "plot_learning_curve(linear_model.RidgeCV())\n",
      "plot_learning_curve(linear_model.LassoCV(n_alphas=20))"
     ],
     "language": "python",
     "metadata": {},
     "outputs": []
    },
    {
     "cell_type": "markdown",
     "metadata": {},
     "source": [
      "**ElasticNet** sits in between Lasso and Ridge. It has a tuning parameter, l1_ratio, that controls this behavior: when set to 0, ElasticNet is a Ridge, when set to 1, it is a Lasso. It is useful when your coefficients are not that sparse. The sparser the coefficients, the higher we should set l1_ratio. Note that l1_ratio can also be set by cross-validation, although we won't do it here to limit computational cost."
     ]
    },
    {
     "cell_type": "code",
     "collapsed": false,
     "input": [
      "plot_learning_curve(linear_model.RidgeCV())\n",
      "plot_learning_curve(linear_model.ElasticNetCV(l1_ratio=.8, n_alphas=20))"
     ],
     "language": "python",
     "metadata": {},
     "outputs": []
    },
    {
     "cell_type": "markdown",
     "metadata": {},
     "source": [
      "**Practical tips:**\n",
      "\n",
      "- *Different algorithms for the same problem:* The Lasso model can be solved with different algorithms: the **Lasso** estimator implements a coordinate-descent approach; the **LassoLars** estimator implements the LARS alorithm. Depending on the situation, one may be faster than the other.\n",
      "\n",
      "- *Normalization:* as with all estimators, it can be useful to normalization your data. The linear models have a 'normalize' option that does the normalization, runs the models, and scales the coefficients so that they are suitable for non normalized data. Note that at the time of writing Lasso and LassoLars have different default settings for normalization."
     ]
    },
    {
     "cell_type": "markdown",
     "metadata": {},
     "source": [
      "**Exercise:** Find the best linear regression prediction on the `diabetes` dataset, that is available in the scikit-learn datasets."
     ]
    },
    {
     "cell_type": "code",
     "collapsed": false,
     "input": [],
     "language": "python",
     "metadata": {},
     "outputs": []
    },
    {
     "cell_type": "heading",
     "level": 2,
     "metadata": {},
     "source": [
      "Linear models for classification"
     ]
    },
    {
     "cell_type": "markdown",
     "metadata": {},
     "source": [
      "In general, a 2-class classification task can be seen as a regression problem with output variables (y) drawn from [0, 1]. Let us simulate a simple example and applied linear regression to it."
     ]
    },
    {
     "cell_type": "code",
     "collapsed": false,
     "input": [
      "# Generate data\n",
      "np.random.seed(0)\n",
      "X = np.random.normal(size=100)\n",
      "y = (X > 0).astype(np.float)\n",
      "X[X > 0] *= 4\n",
      "X += .3 * np.random.normal(size=100)\n",
      "X = X[:, np.newaxis]\n",
      "pl.plot(X, y, 'o')\n",
      "\n",
      "# Fit a linear regression to it\n",
      "ols = linear_model.LinearRegression()\n",
      "ols.fit(X, y)\n",
      "X_test = np.linspace(-4, 10, 100)[:, np.newaxis]\n",
      "pl.plot(X_test, ols.predict(X_test))"
     ],
     "language": "python",
     "metadata": {},
     "outputs": []
    },
    {
     "cell_type": "markdown",
     "metadata": {},
     "source": [
      "We can see that a linear fit is clearly not a good fit for variable in [0, 1].\n",
      "\n",
      "A better approach is to fit a sigmoid, this is called the **logistic regression**. The sigmoid can be seen as coming from a probabilistic model of 'y'.\n",
      "\n",
      "In scikit-learn, some estimators have a 'predict_proba' method that gives the probablity of each class under the model learned. Let us use the predict_proba method of the LogisticRegression object to plot the fit:"
     ]
    },
    {
     "cell_type": "code",
     "collapsed": false,
     "input": [
      "# First plot the data and the ordinary least square regression\n",
      "pl.plot(X, y, 'o')\n",
      "pl.plot(X_test, ols.predict(X_test))\n",
      "\n",
      "# Plot a logistic regression\n",
      "log_reg = linear_model.LogisticRegression(C=1e5)\n",
      "log_reg.fit(X, y)\n",
      "pl.plot(X_test, log_reg.predict_proba(X_test)[:, 1])"
     ],
     "language": "python",
     "metadata": {},
     "outputs": []
    },
    {
     "cell_type": "markdown",
     "metadata": {},
     "source": [
      "**Regularization**: the logistic regression suffers from over-fit in the presence of many features and must be regularized. The 'C' parameter controls that regularization: large C values give unregularized model, while small C give strongly regularized models.\n",
      "\n",
      "Similar to the Ridge/Lasso separation, you can set the 'penalty' parameter to 'l1' to enforce sparsity of the coefficients.\n",
      "\n",
      "**Multi-class**: Multi-class with the LogisticRegression object is tackled using a one-vs-all approach."
     ]
    },
    {
     "cell_type": "markdown",
     "metadata": {},
     "source": [
      "**Exercise:** Use LogisticRegression to classify digits."
     ]
    },
    {
     "cell_type": "code",
     "collapsed": false,
     "input": [],
     "language": "python",
     "metadata": {},
     "outputs": []
    }
   ],
   "metadata": {}
  }
 ]
}