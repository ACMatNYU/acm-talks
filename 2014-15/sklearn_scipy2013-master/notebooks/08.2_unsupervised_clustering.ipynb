{
 "metadata": {
  "name": "08.2_unsupervised_clustering"
 },
 "nbformat": 3,
 "nbformat_minor": 0,
 "worksheets": [
  {
   "cells": [
    {
     "cell_type": "heading",
     "level": 1,
     "metadata": {},
     "source": [
      "Clustering"
     ]
    },
    {
     "cell_type": "markdown",
     "metadata": {},
     "source": [
      "Clustering is the task of gathering samples into groups of similar\n",
      "samples according to some predefined similarity or dissimilarity\n",
      "measure (such as the Euclidean distance).\n",
      "In this section we will explore a basic clustering task on the\n",
      "iris data."
     ]
    },
    {
     "cell_type": "markdown",
     "metadata": {},
     "source": [
      "By the end of this section you will\n",
      "\n",
      "- Know how to instantiate and train KMeans, an unsupervised clustering algorithm\n",
      "- Know several other interesting clustering algorithms within scikit-learn"
     ]
    },
    {
     "cell_type": "markdown",
     "metadata": {},
     "source": [
      "Let's re-use the results of the 2D PCA of the iris dataset in order to\n",
      "explore clustering.  First we need to repeat some of the code from the\n",
      "previous notebook"
     ]
    },
    {
     "cell_type": "code",
     "collapsed": false,
     "input": [
      "# make sure ipython inline mode is activated\n",
      "%pylab inline"
     ],
     "language": "python",
     "metadata": {},
     "outputs": []
    },
    {
     "cell_type": "code",
     "collapsed": false,
     "input": [
      "# all of this is copied from the previous notebook, '06_iris_dimensionality' \n",
      "from sklearn.datasets import load_iris\n",
      "from sklearn.decomposition import PCA\n",
      "import pylab as pl\n",
      "from itertools import cycle\n",
      "\n",
      "iris = load_iris()\n",
      "X = iris.data\n",
      "y = iris.target\n",
      "\n",
      "pca = PCA(n_components=2, whiten=True).fit(X)\n",
      "X_pca = pca.transform(X)\n",
      "\n",
      "def plot_2D(data, target, target_names):\n",
      "    colors = cycle('rgbcmykw')\n",
      "    target_ids = range(len(target_names))\n",
      "    pl.figure()\n",
      "    for i, c, label in zip(target_ids, colors, target_names):\n",
      "        pl.scatter(data[target == i, 0], data[target == i, 1],\n",
      "                   c=c, label=label)\n",
      "    pl.legend()"
     ],
     "language": "python",
     "metadata": {},
     "outputs": []
    },
    {
     "cell_type": "markdown",
     "metadata": {},
     "source": [
      "To remind ourselves what we're looking at, let's again plot the PCA components\n",
      "we defined in the last notebook:"
     ]
    },
    {
     "cell_type": "code",
     "collapsed": false,
     "input": [
      "plot_2D(X_pca, iris.target, iris.target_names)"
     ],
     "language": "python",
     "metadata": {},
     "outputs": []
    },
    {
     "cell_type": "markdown",
     "metadata": {},
     "source": [
      "Now we will use one of the simplest clustering algorithms, K-means.\n",
      "This is an iterative algorithm which searches for three cluster\n",
      "centers such that the distance from each point to its cluster is\n",
      "minimizied. First, let's step back for a second,\n",
      "look at the above plot, and think about what this will do.\n",
      "The algorithm will look for three cluster centers, and label the\n",
      "points according to which cluster center they're closest to.\n",
      "\n",
      "**Question:** what would you expect the output to look like?"
     ]
    },
    {
     "cell_type": "code",
     "collapsed": false,
     "input": [
      "from sklearn.cluster import KMeans\n",
      "from numpy.random import RandomState\n",
      "rng = RandomState(42)\n",
      "\n",
      "kmeans = KMeans(n_clusters=3, random_state=rng)\n",
      "kmeans.fit(X_pca)"
     ],
     "language": "python",
     "metadata": {},
     "outputs": []
    },
    {
     "cell_type": "code",
     "collapsed": false,
     "input": [
      "import numpy as np\n",
      "np.round(kmeans.cluster_centers_, decimals=2)"
     ],
     "language": "python",
     "metadata": {},
     "outputs": []
    },
    {
     "cell_type": "markdown",
     "metadata": {},
     "source": [
      "The ``labels_`` attribute of the K means estimator contains the ID of the\n",
      "cluster that each point is assigned to."
     ]
    },
    {
     "cell_type": "code",
     "collapsed": false,
     "input": [
      "kmeans.labels_"
     ],
     "language": "python",
     "metadata": {},
     "outputs": []
    },
    {
     "cell_type": "markdown",
     "metadata": {},
     "source": [
      "The K-means algorithm has been used to infer cluster labels for the\n",
      "points.  Let's call the ``plot_2D`` function again, but color the points\n",
      "based on the cluster labels rather than the iris species."
     ]
    },
    {
     "cell_type": "code",
     "collapsed": false,
     "input": [
      "plot_2D(X_pca, kmeans.labels_, [\"c0\", \"c1\", \"c2\"])"
     ],
     "language": "python",
     "metadata": {},
     "outputs": []
    },
    {
     "cell_type": "markdown",
     "metadata": {},
     "source": [
      "**Clustering comes with assumptions**: A clustering algorithm find clusters using specific criterion, that correspond to given assumptions. For K-means clustering, the model is that all clusters have equal, spherical variance. In the case of the iris dataset this assumption does not match the geometry of the classes, and thus the clustering cannot recover the classes.\n",
      "\n",
      "**Gaussian Mixture Models**: we can choose a different set of assumptions using a Gaussian Mixture Model (GMM). The GMM can be used to relax the assumptions of equal variance or of sphericality. However, the less assumptions, the more the problem is ill-posed and hard to learn. The `covariance_type` argument of the GMM controls these assumptions. For the iris dataset, we will use the 'tied' mode, which imposes the same covariance for each classes. This makes the covariance learning problem easier."
     ]
    },
    {
     "cell_type": "code",
     "collapsed": false,
     "input": [
      "from sklearn.mixture import GMM\n",
      "gmm = GMM(n_components=3, covariance_type='tied')\n",
      "gmm.fit(X_pca)\n",
      "\n",
      "plot_2D(X_pca, gmm.predict(X_pca), [\"c0\", \"c1\", \"c2\"])\n",
      "plt.title('GMM labels')\n",
      "\n",
      "plot_2D(X_pca, iris.target, iris.target_names)\n",
      "plt.title('True labels')"
     ],
     "language": "python",
     "metadata": {},
     "outputs": []
    },
    {
     "cell_type": "markdown",
     "metadata": {},
     "source": [
      "We see that the label are now much closer to the ground truth.\n",
      "\n",
      "**In general, there is no guarantee that structure found by a clustering algorithm has anything to do with latent structures of the data**."
     ]
    },
    {
     "cell_type": "heading",
     "level": 2,
     "metadata": {},
     "source": [
      "Some Notable Clustering Routines"
     ]
    },
    {
     "cell_type": "markdown",
     "metadata": {},
     "source": [
      "The following are two well-known clustering algorithms. Like most unsupervised learning\n",
      "models in the scikit, they expect the data to be clustered to have the shape `(n_samples, n_features)`:\n",
      "\n",
      "- `sklearn.cluster.KMeans`: <br/>\n",
      "    The simplest, yet effective clustering algorithm. Needs to be provided with the\n",
      "    number of clusters in advance, and assumes that the data is normalized as input\n",
      "    (but use a PCA model as preprocessor).\n",
      "- `sklearn.cluster.MeanShift`: <br/>\n",
      "    Can find better looking clusters than KMeans but is not scalable to high number of samples.\n",
      "- `sklearn.cluster.DBSCAN`: <br/>\n",
      "    Can detect irregularly shaped clusters based on density, i.e. sparse regions in\n",
      "    the input space are likely to become inter-cluster boundaries. Can also detect\n",
      "    outliers (samples that are not part of a cluster).\n",
      "\n",
      "Other clustering algorithms do not work with a data array of shape (n_samples, n_features)\n",
      "but directly with a precomputed affinity matrix of shape (n_samples, n_samples):\n",
      "\n",
      "- `sklearn.cluster.AffinityPropagation`: <br/>\n",
      "    Clustering algorithm based on message passing between data points.\n",
      "- `sklearn.cluster.SpectralClustering`: <br/>\n",
      "    KMeans applied to a projection of the normalized graph Laplacian: finds\n",
      "    normalized graph cuts if the affinity matrix is interpreted as an adjacency matrix of a graph.\n",
      "- `sklearn.cluster.Ward`: <br/>\n",
      "    Ward implements hierarchical clustering based on the Ward algorithm,\n",
      "    a variance-minimizing approach. At each step, it minimizes the sum of\n",
      "    squared differences within all clusters (inertia criterion).\n",
      "- `sklearn.cluster.DBSCAN`: <br/>\n",
      "    DBSCAN can work with either an array of samples or an affinity matrix."
     ]
    },
    {
     "cell_type": "heading",
     "level": 2,
     "metadata": {},
     "source": [
      "Some Applications of Clustering"
     ]
    },
    {
     "cell_type": "markdown",
     "metadata": {},
     "source": [
      "Here are some common applications of clustering algorithms:\n",
      "\n",
      "- Compression, in a data reduction sens\n",
      "- Can be used as a preprocessing step for recommender systems\n",
      "- Similarly:\n",
      "   - grouping related web news (e.g. Google News) and web search results\n",
      "   - grouping related stock quotes for investment portfolio management\n",
      "   - building customer profiles for market analysis\n",
      "- Building a code book of prototype samples for unsupervised feature extraction for supervised learning algorithms\n"
     ]
    },
    {
     "cell_type": "heading",
     "level": 2,
     "metadata": {},
     "source": [
      "Exercise: digits clustering"
     ]
    },
    {
     "cell_type": "markdown",
     "metadata": {},
     "source": [
      "Perform K-means clustering on the digits data, searching for ten clusters.\n",
      "Visualize the cluster centers as images (i.e. reshape each to 8x8 and use\n",
      "``plt.imshow``)  Do the clusters seem to be correlated with particular digits?\n",
      "\n",
      "Visualize the projected digits as in the last notebook, but this time use the\n",
      "cluster labels as the color.  What do you notice?"
     ]
    },
    {
     "cell_type": "code",
     "collapsed": false,
     "input": [
      "from sklearn.datasets import load_digits\n",
      "digits = load_digits()\n",
      "# ..."
     ],
     "language": "python",
     "metadata": {},
     "outputs": []
    },
    {
     "cell_type": "code",
     "collapsed": false,
     "input": [
      "%load solutions/08B_digits_clustering.py"
     ],
     "language": "python",
     "metadata": {},
     "outputs": []
    }
   ],
   "metadata": {}
  }
 ]
}